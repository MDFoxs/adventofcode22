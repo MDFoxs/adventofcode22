{
 "cells": [
  {
   "cell_type": "markdown",
   "id": "3731b57a",
   "metadata": {},
   "source": [
    "### Task 1"
   ]
  },
  {
   "cell_type": "code",
   "execution_count": 14,
   "id": "74e247d5",
   "metadata": {},
   "outputs": [
    {
     "name": "stdout",
     "output_type": "stream",
     "text": [
      "69206\n"
     ]
    }
   ],
   "source": [
    "initial_value = 0\n",
    "elf_totals = []\n",
    "\n",
    "file = open('day1list', 'r')\n",
    "for line in file:\n",
    "    if line != \"\\n\":\n",
    "        initial_value = initial_value + int(line)\n",
    "    else:\n",
    "        elf_totals.append(initial_value)\n",
    "        initial_value = 0\n",
    "print(max(elf_totals))"
   ]
  },
  {
   "cell_type": "markdown",
   "id": "88918898",
   "metadata": {},
   "source": [
    "### Task 2"
   ]
  },
  {
   "cell_type": "code",
   "execution_count": 15,
   "id": "661e1757",
   "metadata": {},
   "outputs": [
    {
     "name": "stdout",
     "output_type": "stream",
     "text": [
      "197400\n"
     ]
    }
   ],
   "source": [
    "initial_value = 0\n",
    "elf_totals = []\n",
    "\n",
    "file = open('day1list', 'r')\n",
    "for line in file:\n",
    "    if line != \"\\n\":\n",
    "        initial_value = initial_value + int(line)\n",
    "    else:\n",
    "        elf_totals.append(initial_value)\n",
    "        initial_value = 0\n",
    "        \n",
    "elf_totals.sort(reverse=True)\n",
    "top_three_tot = elf_totals[:3]\n",
    "print(sum(topthreetot))"
   ]
  }
 ],
 "metadata": {
  "kernelspec": {
   "display_name": "Python 3 (ipykernel)",
   "language": "python",
   "name": "python3"
  },
  "language_info": {
   "codemirror_mode": {
    "name": "ipython",
    "version": 3
   },
   "file_extension": ".py",
   "mimetype": "text/x-python",
   "name": "python",
   "nbconvert_exporter": "python",
   "pygments_lexer": "ipython3",
   "version": "3.9.12"
  }
 },
 "nbformat": 4,
 "nbformat_minor": 5
}
